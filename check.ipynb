{
 "cells": [
  {
   "cell_type": "code",
   "execution_count": 1,
   "source": [
    "import numpy as np\n",
    "import pandas as pd\n",
    "\n",
    "import seaborn as sns\n",
    "import matplotlib.pyplot as plt\n",
    "from PIL import Image\n",
    "from tqdm import tqdm\n",
    "\n",
    "from scipy.special import expit as sigmoid\n",
    "from scipy.stats import multivariate_normal"
   ],
   "outputs": [],
   "metadata": {}
  },
  {
   "cell_type": "code",
   "execution_count": 2,
   "source": [
    "x = np.array([1, 2, 3])\n",
    "y = x\n",
    "\n",
    "print(f\"x:{x},y:{y}\")\n",
    "\n",
    "x[0] = 10\n",
    "print(f\"x:{x},y:{y}\")\n",
    "\n",
    "y[1] = 100\n",
    "print(f\"x:{x},y:{y}\")"
   ],
   "outputs": [
    {
     "output_type": "stream",
     "name": "stdout",
     "text": [
      "x:[1 2 3],y:[1 2 3]\n",
      "x:[10  2  3],y:[10  2  3]\n",
      "x:[ 10 100   3],y:[ 10 100   3]\n"
     ]
    }
   ],
   "metadata": {}
  }
 ],
 "metadata": {
  "orig_nbformat": 4,
  "language_info": {
   "name": "python",
   "version": "3.7.10",
   "mimetype": "text/x-python",
   "codemirror_mode": {
    "name": "ipython",
    "version": 3
   },
   "pygments_lexer": "ipython3",
   "nbconvert_exporter": "python",
   "file_extension": ".py"
  },
  "kernelspec": {
   "name": "python3",
   "display_name": "Python 3.7.10 64-bit ('R_Use': conda)"
  },
  "interpreter": {
   "hash": "58440a84f8c23ab8e374be24a6c507907451f36bc8d531cef82c00bc7b067453"
  }
 },
 "nbformat": 4,
 "nbformat_minor": 2
}
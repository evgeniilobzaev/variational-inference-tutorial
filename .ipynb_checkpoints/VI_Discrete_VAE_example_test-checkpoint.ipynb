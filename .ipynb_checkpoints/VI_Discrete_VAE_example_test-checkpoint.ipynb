{
 "cells": [
  {
   "cell_type": "code",
   "execution_count": 14,
   "metadata": {},
   "outputs": [],
   "source": [
    "from torchvision import datasets, transforms\n",
    "import matplotlib.pyplot as plt\n",
    "import torch\n",
    "import torch.nn as nn\n",
    "from torch.optim import Adam\n",
    "import torch.nn.functional as F\n",
    "from torch.distributions import kl_divergence\n",
    "import numpy as np\n",
    "%matplotlib inline"
   ]
  },
  {
   "cell_type": "code",
   "execution_count": 15,
   "metadata": {},
   "outputs": [],
   "source": [
    "# helper function(s)\n",
    "def plot_mnist_image(img,lbl=None):\n",
    "    fig = plt.figure()\n",
    "    plt.imshow(img, cmap='gray',interpolation='nearest')\n",
    "    if lbl is not None:\n",
    "        plt.title(lbl)\n",
    "    plt.show()"
   ]
  },
  {
   "cell_type": "code",
   "execution_count": 16,
   "metadata": {},
   "outputs": [],
   "source": [
    "train_loader = torch.utils.data.DataLoader(\n",
    "    datasets.MNIST('./MNIST-data', train=True, download=True,\n",
    "                   transform=transforms.Compose([\n",
    "                       transforms.ToTensor(),\n",
    "#                        transforms.Normalize((0.1307,), (0.3081,))\n",
    "                   ])),\n",
    "        batch_size=128, shuffle=True)\n",
    "\n",
    "\n",
    "test_loader = torch.utils.data.DataLoader(\n",
    "    datasets.MNIST(root='./MNIST-data', train=False, download=True,\n",
    "                   transform=transforms.Compose([\n",
    "                       transforms.ToTensor(),\n",
    "#                        transforms.Normalize((0.1307,), (0.3081,))\n",
    "                       ])),\n",
    "    batch_size=1, shuffle=True)\n"
   ]
  },
  {
   "cell_type": "code",
   "execution_count": 17,
   "metadata": {},
   "outputs": [
    {
     "data": {
      "image/png": "[encoded data removed]",
      "text/plain": [
       "<Figure size 432x288 with 1 Axes>"
      ]
     },
     "metadata": {
      "needs_background": "light"
     },
     "output_type": "display_data"
    }
   ],
   "source": [
    "# let's plot one\n",
    "for X_test,y_lbl in test_loader:\n",
    "    X_np = X_test.numpy()[0,0,:,:] # remove all unnecessary dimensions\n",
    "    y_np = y_lbl.numpy()[0]\n",
    "    plot_mnist_image(X_np,lbl=f\"{y_np}\")\n",
    "    break"
   ]
  },
  {
   "cell_type": "code",
   "execution_count": 18,
   "metadata": {},
   "outputs": [],
   "source": [
    "class DiscreteVAE(nn.Module):\n",
    "    def __init__(self,N,K):\n",
    "        super(DiscreteVAE,self).__init__()\n",
    "        \n",
    "        # keep our K and N\n",
    "        self.K = K\n",
    "        self.N = N\n",
    "\n",
    "        # create encoder -> logits are not here yet!\n",
    "        self.encoder = self.encoder = nn.Sequential(\n",
    "            nn.Linear(784, 512),\n",
    "            nn.ReLU(),\n",
    "            nn.Linear(512, 256),\n",
    "            nn.ReLU(),\n",
    "            nn.Linear(256, self.K*self.N)\n",
    "        )\n",
    "\n",
    "        # create decoder -> since our values are 0/1 pixels, we have LogSigmoid at the end\n",
    "        self.decoder = nn.Sequential(\n",
    "            nn.Linear(self.N*self.K, 256),\n",
    "            nn.ReLU(),\n",
    "            nn.Linear(256, 512),\n",
    "            nn.ReLU(),\n",
    "            nn.Linear(512, 784),\n",
    "            nn.LogSigmoid()\n",
    "        )\n",
    "    \n",
    "    def forward(self,X,temperature = 1.0,hard=False):\n",
    "        # encode\n",
    "        X              = self.encoder(X)                      # pass through encoder\n",
    "        unnorm_logits  = X.view(-1, self.N, self.K)           # get shape [batch_size,N,K]\n",
    "        norm_logits    = F.log_softmax(unnorm_logits, dim=-1) # obtain logits across last dimension (K)\n",
    "\n",
    "        # sampling from Gumbel Softmax\n",
    "        z       = F.gumbel_softmax(\n",
    "                                    unnorm_logits,\n",
    "                                    tau    = temperature,\n",
    "                                    hard   = hard,\n",
    "                                    dim    = -1           # to perform softmax along last dimension (which is K)\n",
    "                                  )\n",
    "        # decode back\n",
    "        z_reshaped = z.view(-1,self.N*self.K) # change from 3D to 2D: [batch_size, N*K]\n",
    "        out_logits = self.decoder(z_reshaped)\n",
    "\n",
    "        # return:\n",
    "        # 1. norm_logits: normalized output of encoder -> need for KL\n",
    "        # 2. z:           latent RVs (not really needed but just in case)\n",
    "        # 3. out_logits: logits to get Bernoulli RV (need to reconstruction error)\n",
    "        return norm_logits,z,out_logits\n",
    "    \n",
    "    # decode z\n",
    "    def decode(self,z):\n",
    "        z_reshaped  = z.view(-1,self.N*self.K)\n",
    "        out         = self.decoder(z_reshaped)\n",
    "        return out\n",
    "\n",
    "# function to compute ELBO\n",
    "def loss_for_discrete_vae(y,encoder_logits,decoder_logits,K):\n",
    "    # instantiate our p(y|z)\n",
    "    py_z = torch.distributions.Bernoulli(logits=decoder_logits)\n",
    "    # compute logpprob of data (y)\n",
    "    reconstruction_error = py_z.log_prob(y).sum(dim=-1)\n",
    "\n",
    "    # compute KL\n",
    "    # variational posterior categorical distribution\n",
    "    posterior_dist = torch.distributions.Categorical(logits=encoder_logits)\n",
    "    # prior distribution with p=1/K for all categories\n",
    "    prior_dist     = torch.distributions.Categorical(probs=torch.ones_like(encoder_logits)/K)\n",
    "    # compute KL divergence\n",
    "    KL             = kl_divergence(posterior_dist, prior_dist).sum(-1)\n",
    "\n",
    "    # combine as ELBO = reconstruction - KL\n",
    "    total_loss = reconstruction_error - KL\n",
    "    \n",
    "    # change sign and average over batch size\n",
    "    out = -total_loss.mean()\n",
    "\n",
    "    return out\n",
    "\n",
    "def sample_from_prior(model,N,K,n_samples = 1):\n",
    "    # create our one-hot vectors\n",
    "    M                                    = n_samples*N\n",
    "    np_z                                 = np.zeros((M,K))\n",
    "    np_z[range(M),np.random.choice(K,M)] = 1\n",
    "    # reshape so we have shape [n_samples,N,K]\n",
    "    np_z                                 = np.reshape(np_z,[n_samples,N,K])\n",
    "    # convert to tensor\n",
    "    z_tensor                             = torch.from_numpy(np_z).float()\n",
    "\n",
    "    with torch.no_grad():\n",
    "        logp        = model.decode(z_tensor)\n",
    "        dist_x      = torch.distributions.Bernoulli(logits=logp)\n",
    "        sampled_img = dist_x.sample((1,))\n",
    "    return sampled_img.view(-1,28,28)\n"
   ]
  },
  {
   "cell_type": "code",
   "execution_count": 30,
   "metadata": {},
   "outputs": [],
   "source": [
    "# necessary variables\n",
    "K             = 10   # number of classes (known from the problem)\n",
    "N             = 70   # number of categorical distributions (that's our choice)\n",
    "NUM_EPOCHS    = 70\n",
    "init_temp     = 1.0\n",
    "ANNEAL_RATE   = 0.000003\n",
    "MIN_TEMP      = 0.15\n",
    "iter_counter  = 0\n",
    "\n",
    "# instantiate model and optimizer\n",
    "model     = DiscreteVAE(N,K)\n",
    "optimizer = torch.optim.Adam(model.parameters(), lr = 0.001, weight_decay = 0.0)"
   ]
  },
  {
   "cell_type": "code",
   "execution_count": 31,
   "metadata": {},
   "outputs": [
    {
     "name": "stdout",
     "output_type": "stream",
     "text": [
      "Epoch:0 (# of batch updates:469), ELBO:200.0879, Temperature:0.9330\n"
     ]
    },
    {
     "data": {
      "image/png": "[encoded data removed]",
      "text/plain": [
       "<Figure size 1080x504 with 5 Axes>"
      ]
     },
     "metadata": {
      "needs_background": "light"
     },
     "output_type": "display_data"
    },
    {
     "name": "stdout",
     "output_type": "stream",
     "text": [
      "Epoch:1 (# of batch updates:938), ELBO:178.2437, Temperature:0.8105\n",
      "Epoch:2 (# of batch updates:1407), ELBO:166.6426, Temperature:0.7041\n"
     ]
    },
    {
     "data": {
      "image/png": "[encoded data removed]",
      "text/plain": [
       "<Figure size 1080x504 with 5 Axes>"
      ]
     },
     "metadata": {
      "needs_background": "light"
     },
     "output_type": "display_data"
    },
    {
     "name": "stdout",
     "output_type": "stream",
     "text": [
      "Epoch:3 (# of batch updates:1876), ELBO:160.4021, Temperature:0.6117\n",
      "Epoch:4 (# of batch updates:2345), ELBO:156.4450, Temperature:0.5314\n"
     ]
    },
    {
     "data": {
      "image/png": "[encoded data removed]",
      "text/plain": [
       "<Figure size 1080x504 with 5 Axes>"
      ]
     },
     "metadata": {
      "needs_background": "light"
     },
     "output_type": "display_data"
    },
    {
     "name": "stdout",
     "output_type": "stream",
     "text": [
      "Epoch:5 (# of batch updates:2814), ELBO:154.3916, Temperature:0.4617\n"
     ]
    }
   ],
   "source": [
    "for epoch in range(NUM_EPOCHS):\n",
    "    loss_accumulator        = []\n",
    "    temperature_accumulator = []\n",
    "    \n",
    "    for batch_idx, (X_train,_) in enumerate(train_loader):\n",
    "    \n",
    "        # change dimensionality of X_train\n",
    "        data = X_train.view(-1, 28*28)\n",
    "        \n",
    "        # set temperature\n",
    "        temperature = np.maximum(\n",
    "                                    init_temp * np.exp(-ANNEAL_RATE * iter_counter), \n",
    "                                    MIN_TEMP\n",
    "                                )\n",
    "\n",
    "        # forward pass\n",
    "        encoder_logits,z,decoder_logits = model(\n",
    "                                                    data,\n",
    "                                                    temperature = temperature,\n",
    "                                                    hard        = False\n",
    "                                                )\n",
    "        \n",
    "        # compute loss\n",
    "        elbo = loss_for_discrete_vae(data,encoder_logits,decoder_logits,K)\n",
    "\n",
    "        # clean pprevious gradients and do a step\n",
    "        optimizer.zero_grad()\n",
    "        elbo.backward()\n",
    "        optimizer.step()\n",
    "\n",
    "        # increase iter counter\n",
    "        iter_counter +=1\n",
    "        \n",
    "        # cache losses and temperature\n",
    "        loss_accumulator.append(elbo.item())\n",
    "        temperature_accumulator.append(temperature)\n",
    "    \n",
    "    avg_loss = sum(loss_accumulator)/len(loss_accumulator)\n",
    "    avg_temp = sum(temperature_accumulator)/len(temperature_accumulator)\n",
    "    \n",
    "    print(f\"Epoch:{epoch} (# of batch updates:{iter_counter}), ELBO:{avg_loss:0.4f}, Temperature:{avg_temp:0.4f}\")\n",
    "        \n",
    "        \n",
    "    # show batch loss some every number of iterations\n",
    "    if epoch%2 == 0:\n",
    "        fig,axs       = plt.subplots(nrows=1,ncols=5,figsize=(15,7))\n",
    "        prior_samples = sample_from_prior(model,N,K,n_samples = 5).numpy()\n",
    "        for i in range(5):\n",
    "            axs[i].imshow(\n",
    "                            prior_samples[i,:,:], \n",
    "                            cmap          ='gray',\n",
    "                            interpolation ='nearest'\n",
    "                          )\n",
    "        fig.suptitle(f\"Samples from prior after epoch:{epoch}\")\n",
    "        plt.show()"
   ]
  },
  {
   "cell_type": "code",
   "execution_count": 29,
   "metadata": {},
   "outputs": [
    {
     "name": "stdout",
     "output_type": "stream",
     "text": [
      "Post-training samples\n"
     ]
    },
    {
     "data": {
      "image/png": "[encoded data removed]",
      "text/plain": [
       "<Figure size 1440x720 with 20 Axes>"
      ]
     },
     "metadata": {
      "needs_background": "light"
     },
     "output_type": "display_data"
    }
   ],
   "source": [
    "### do some samples\n",
    "print(\"Post-training samples\")\n",
    "n_samples     = 20\n",
    "prior_samples = sample_from_prior(model,N,K,n_samples = n_samples)\n",
    "\n",
    "fig,axs = plt.subplots(nrows=4,ncols=5,figsize=(20,10))\n",
    "\n",
    "for i in range(n_samples):\n",
    "    row = i//5\n",
    "    col = i%5\n",
    "    \n",
    "    # select one samples\n",
    "    sample        = prior_samples.numpy()[i,:,:]\n",
    "    \n",
    "    # plot\n",
    "    axs[row,col].imshow(\n",
    "                    sample, \n",
    "                    cmap          ='gray',\n",
    "                    interpolation ='nearest'\n",
    "                  )\n",
    "    fig.suptitle(\"Post-training examples\")"
   ]
  },
  {
   "cell_type": "code",
   "execution_count": null,
   "metadata": {},
   "outputs": [],
   "source": []
  }
 ],
 "metadata": {
  "interpreter": {
   "hash": "58440a84f8c23ab8e374be24a6c507907451f36bc8d531cef82c00bc7b067453"
  },
  "kernelspec": {
   "display_name": "Python 3",
   "language": "python",
   "name": "python3"
  },
  "language_info": {
   "codemirror_mode": {
    "name": "ipython",
    "version": 3
   },
   "file_extension": ".py",
   "mimetype": "text/x-python",
   "name": "python",
   "nbconvert_exporter": "python",
   "pygments_lexer": "ipython3",
   "version": "3.7.10"
  }
 },
 "nbformat": 4,
 "nbformat_minor": 2
}
